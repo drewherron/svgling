{
 "cells": [
  {
   "cell_type": "raw",
   "metadata": {},
   "source": [
    "---\n",
    "title: \"`svgling` diagram gallery\"\n",
    "date: 2023-10-08\n",
    "author:\n",
    "  - name: Kyle Rawlins\n",
    "    email: kgr@jhu.edu\n",
    "toc: false\n",
    "format:\n",
    "  html:\n",
    "    code-fold: true\n",
    "jupyter: python3\n",
    "bibliography: svgling.bib\n",
    "citation-location: margin\n",
    "html-math-method:\n",
    "  method: mathjax\n",
    "---"
   ]
  },
  {
   "cell_type": "code",
   "execution_count": null,
   "metadata": {
    "tags": []
   },
   "outputs": [],
   "source": [
    "import svgling\n",
    "from svgling import draw_tree\n",
    "from svgling.figure import Caption, SideBySide, RowByRow"
   ]
  },
  {
   "cell_type": "markdown",
   "metadata": {},
   "source": [
    "::: {.content-hidden}\n",
    "\n",
    "Note! This document in is partly in `quarto`-flavored markdown and can be used with the `quarto` package to generate a rendered version overview. For this reason you will see occasional raw cells and things like the first line of this cell that will render oddly as a plain jupyter notebook.\n",
    "# `svgling` diagram gallery\n",
    ":::"
   ]
  },
  {
   "cell_type": "markdown",
   "metadata": {},
   "source": [
    "This gallery provides several examples of relatively complex SVG tree diagrams rendering using the [`svgling` package](https://github.com/rawlins/svgling). To begin with, here is an example from @Carnie12 that illustrates multiline nodes paired with aligned leaf nodes."
   ]
  },
  {
   "cell_type": "code",
   "execution_count": null,
   "metadata": {
    "tags": []
   },
   "outputs": [],
   "source": [
    "Caption(draw_tree(\"TP\", (\"NP\", \"D\\nThe\", (\"AdjP\", (\"AdvP\", \"Adv\\nvery\"), \"Adj\\nsmall\"), \"N\\nboy\"), (\"VP\", \"V\\nkissed\", (\"NP\", \"D\\nthe\", \"N\\nplatypus\")),\n",
    "                  leaf_nodes_align=True),\n",
    "        \"Tree from Carnie 2012, p. 93\")"
   ]
  },
  {
   "cell_type": "markdown",
   "metadata": {},
   "source": [
    "The following example illustrates Quantifier Raising (QR) in the style of @HeimKratzer98, involving movement arrows, subfigures, and subtree highlighting."
   ]
  },
  {
   "cell_type": "code",
   "execution_count": null,
   "metadata": {
    "tags": []
   },
   "outputs": [],
   "source": [
    "qrtree0 = (\"TP\", (\"DP\", (\"D\", \"every\"), (\"NP\", (\"N\", \"cat\"))),\n",
    "                                   (\"VP\", (\"V\", \"likes\"), (\"DP\", (\"D\", \"some\"), (\"NP\", (\"N\", \"dog\")))))\n",
    "out0 = Caption(draw_tree(qrtree0), \"LF input (= Surface Structure)\")\n",
    "\n",
    "qrtree1 = (\"TP\", (\"DP(1)\", (\"D\", \"every\"), (\"NP\", (\"N\", \"cat\"))),\n",
    "                                   (\"VP\", (\"V\", \"likes\"), (\"DP(3)\", (\"D\", \"some\"), (\"NP\", (\"N\", \"dog\")))))\n",
    "out1 = draw_tree(qrtree1)\n",
    "out1.box_constituent((0,))\n",
    "out1.box_constituent((1,1))\n",
    "out1 = Caption(out1, \"Step 1: free indexing (1 of 2 indexings)\")\n",
    "\n",
    "qrtree2 = (\"TP\", (\"DP\", (\"D\", \"some\"), (\"NP\", (\"N\", \"dog\"))),\n",
    "                      (\"TP\", \"3\", (\"TP\", (\"DP(1)\", (\"D\", \"every\"), (\"NP\", (\"N\", \"cat\"))),\n",
    "                                   (\"VP\", (\"V\", \"likes\"), (\"DP\", \"t(3)\")))))\n",
    "out2 = draw_tree(qrtree2)\n",
    "out2.movement_arrow((1,1,1,1), (0,))\n",
    "out2.box_constituent((0,))\n",
    "out2.box_constituent((1,1,0))\n",
    "out2 = Caption(out2, \"Step 2: QR an indexed DP (choosing the object)\")\n",
    "\n",
    "qrtree3 = (\"TP\", (\"DP\", (\"D\", \"every\"), (\"NP\", (\"N\", \"cat\"))),\n",
    "           (\"TP\", \"1\", (\"TP\", (\"DP\", (\"D\", \"some\"), (\"NP\", (\"N\", \"dog\"))),\n",
    "                     (\"TP\", \"3\", (\"TP\", (\"DP\", \"t(1)\"), (\"VP\", (\"V\", \"likes\"), (\"DP\", \"t(3)\")))))))\n",
    "out3 = draw_tree(qrtree3)\n",
    "out3.movement_arrow((1,1,1,1,0), (0,))\n",
    "out3.box_constituent((0,))\n",
    "out3.movement_arrow((1,1,1,1,1,1), (1,1,0))\n",
    "out3.box_constituent((1,1,0))\n",
    "out3 = Caption(out3, \"Step 3: QR an indexed DP (choosing the subject).\")\n",
    "\n",
    "Caption(RowByRow(SideBySide(out0, out1), SideBySide(out2,out3)), \"Trees illustrating a QR (Quantifier Raising) derivation in the Heim & Kratzer 1998 style\")"
   ]
  },
  {
   "cell_type": "markdown",
   "metadata": {},
   "source": [
    "The following example, based on a tree from @McCloskey00, demonstrates multi-headed movement arrows."
   ]
  },
  {
   "cell_type": "code",
   "execution_count": null,
   "metadata": {
    "tags": []
   },
   "outputs": [],
   "source": [
    "mccloskey = (\"FP\", (\"F\", (\"V\", \"put\")),\n",
    "             (\"AgrOP\", (\"DP(Obj)\", \"milk\"),\n",
    "              (\"\", (\"AgrO\", \"t(V)\"),\n",
    "               (\"VP\", \"t(Subj)\", (\"\", \"t(V)\",\n",
    "                                  (\"VP\", (\"PP\", \"in it\"), (\"\", (\"V\", \"t(V)\"), \"t(Obj)\")))))))\n",
    "\n",
    "# TODO: the example in the paper actually uses even horizontal spacing across the whole tree, can I simulate this?\n",
    "out = draw_tree(mccloskey)\n",
    "out.set_edge_style((1,0,0), svgling.core.TriangleEdge())\n",
    "out.set_edge_style((1,1,1,1,1,0,0), svgling.core.TriangleEdge())\n",
    "out.movement_arrow((1,1,1,1,1,1,0,0), (1,1,0,0))\n",
    "out.movement_arrow((1,1,0,0), (0,0,0))\n",
    "out.movement_arrow((1,1,1,1,1,1,1), (1,0))\n",
    "Caption(out, \"Tree after ex. 58 of McCloskey (2000)\")"
   ]
  },
  {
   "cell_type": "markdown",
   "metadata": {},
   "source": [
    "The following tree is not pure SVG, but is rendered using `svgling.html`."
   ]
  },
  {
   "cell_type": "code",
   "execution_count": null,
   "metadata": {},
   "outputs": [],
   "source": [
    "import svgling.html\n",
    "svgling.html.compat(svgling.html.Compat.USE_MARKDOWN) # needed for quarto\n",
    "from svgling.html import multiline_text as ml\n",
    "\n",
    "def math(s):\n",
    "    # note: we are in markdown mode, so using delimiters with backslashes becomes harder...\n",
    "    return f\"${s}$\"\n",
    "\n",
    "svgling.html.draw_tree(\n",
    "    ml(math(r\"\\text{Saw}(\\iota x_e{:\\:}\\text{Elephant}(x),\\iota x_e{:\\:}\\text{Rhino}(x))\"), math(r\"\\text{Type: }t\")),\n",
    "    (ml(math(r\"\\iota x_e{:\\:}\\text{Elephant}(x)\"), math(r\"\\text{Type: }e\")),\n",
    "         ml(math(r\"\\lambda f_{\\langle e,t \\rangle }{:\\:}\\iota x_e{:\\:}f(x)\"),\n",
    "            math(r\"\\text{Type: }\\langle \\langle e,t\\rangle ,e\\rangle\")),\n",
    "         ml(math(r\"\\lambda x_e{:\\:}\\text{Elephant}(x)\"), math(r\"\\text{Type: }\\langle e,t\\rangle\"))),\n",
    "    (ml(math(r\"\\lambda x_e{:\\:}\\text{Saw}(x,\\iota x_e{:\\:}\\text{Rhino}(x))\"), math(r\"\\text{Type: }\\langle e,t\\rangle\")),\n",
    "         ml(math(r\"\\lambda y_e{:\\:}\\lambda x_e{:\\:}\\text{Saw}(x,y)\"),\n",
    "            math(r\"\\text{Type: }\\langle e,\\langle e,t\\rangle\\rangle\")),\n",
    "         (ml(math(r\"\\iota x_e{:\\:}\\text{Rhino}(x)\"), math(r\"\\text{Type: }e\")),\n",
    "              ml(math(r\"\\lambda f_{\\langle e,t \\rangle }{:\\:}\\iota x_e{:\\:}f(x)\"),\n",
    "                 math(r\"\\text{Type: }\\langle \\langle e,t\\rangle ,e\\rangle\")),\n",
    "              ml(math(r\"\\lambda x_e{:\\:}\\text{Rhino}(x)\"), math(r\"\\text{Type: }\\langle e,t\\rangle\")))))\n"
   ]
  },
  {
   "cell_type": "markdown",
   "metadata": {},
   "source": [
    "## More diagrams?\n",
    "\n",
    "I'd be excited to get both new diagram requests, and PRs for new diagrams: [https://github.com/rawlins/svgling](https://github.com/rawlins/svgling)."
   ]
  },
  {
   "cell_type": "code",
   "execution_count": null,
   "metadata": {},
   "outputs": [],
   "source": []
  }
 ],
 "metadata": {
  "kernelspec": {
   "display_name": "Python 3 (ipykernel)",
   "language": "python",
   "name": "python3"
  },
  "language_info": {
   "codemirror_mode": {
    "name": "ipython",
    "version": 3
   },
   "file_extension": ".py",
   "mimetype": "text/x-python",
   "name": "python",
   "nbconvert_exporter": "python",
   "pygments_lexer": "ipython3",
   "version": "3.9.18"
  }
 },
 "nbformat": 4,
 "nbformat_minor": 4
}
